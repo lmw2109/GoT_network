{
 "cells": [
  {
   "cell_type": "markdown",
   "metadata": {},
   "source": [
    "## Web-Scraping - Game of Thrones - Main & Recurring Characters Of All Seasons\n",
    "\n",
    "**Quick Notes**\n",
    "\n",
    "This Notebook gets all starring cast characters of the popular HBO series 'Game of Thrones' and organizes them into a '.csv'.\n",
    "\n",
    "Pandas is truely wonderful.\n",
    "\n",
    "**Sources**\n",
    "\n",
    "- [Pandas Documentation](https://pandas.pydata.org/docs/)"
   ]
  },
  {
   "cell_type": "markdown",
   "metadata": {},
   "source": [
    "### Import the necessary tools"
   ]
  },
  {
   "cell_type": "code",
   "execution_count": 1,
   "metadata": {},
   "outputs": [],
   "source": [
    "import pandas as pd"
   ]
  },
  {
   "cell_type": "markdown",
   "metadata": {},
   "source": [
    "### Source"
   ]
  },
  {
   "cell_type": "code",
   "execution_count": 2,
   "metadata": {},
   "outputs": [],
   "source": [
    "page_url = 'https://en.wikipedia.org/wiki/List_of_Game_of_Thrones_characters'"
   ]
  },
  {
   "cell_type": "code",
   "execution_count": 3,
   "metadata": {},
   "outputs": [],
   "source": [
    "# Don't need to verify certificate for wikipedia...\n",
    "import ssl\n",
    "ssl._create_default_https_context = ssl._create_unverified_context"
   ]
  },
  {
   "cell_type": "markdown",
   "metadata": {},
   "source": [
    "### Fetch tables from url"
   ]
  },
  {
   "cell_type": "code",
   "execution_count": 4,
   "metadata": {},
   "outputs": [
    {
     "data": {
      "text/plain": [
       "8"
      ]
     },
     "execution_count": 4,
     "metadata": {},
     "output_type": "execute_result"
    }
   ],
   "source": [
    "table_MN = pd.read_html(page_url)\n",
    "len(table_MN)"
   ]
  },
  {
   "cell_type": "markdown",
   "metadata": {},
   "source": [
    "### Identify tables of interest"
   ]
  },
  {
   "cell_type": "markdown",
   "metadata": {},
   "source": [
    "#### Main characters"
   ]
  },
  {
   "cell_type": "code",
   "execution_count": 5,
   "metadata": {},
   "outputs": [
    {
     "data": {
      "text/html": [
       "<div>\n",
       "<style scoped>\n",
       "    .dataframe tbody tr th:only-of-type {\n",
       "        vertical-align: middle;\n",
       "    }\n",
       "\n",
       "    .dataframe tbody tr th {\n",
       "        vertical-align: top;\n",
       "    }\n",
       "\n",
       "    .dataframe thead tr th {\n",
       "        text-align: left;\n",
       "    }\n",
       "</style>\n",
       "<table border=\"1\" class=\"dataframe\">\n",
       "  <thead>\n",
       "    <tr>\n",
       "      <th></th>\n",
       "      <th>Actor</th>\n",
       "      <th>Character</th>\n",
       "      <th colspan=\"8\" halign=\"left\">Appearances</th>\n",
       "    </tr>\n",
       "    <tr>\n",
       "      <th></th>\n",
       "      <th>Actor</th>\n",
       "      <th>Character</th>\n",
       "      <th>1</th>\n",
       "      <th>2</th>\n",
       "      <th>3</th>\n",
       "      <th>4</th>\n",
       "      <th>5</th>\n",
       "      <th>6</th>\n",
       "      <th>7</th>\n",
       "      <th>8</th>\n",
       "    </tr>\n",
       "  </thead>\n",
       "  <tbody>\n",
       "    <tr>\n",
       "      <th>0</th>\n",
       "      <td>Sean Bean</td>\n",
       "      <td>Eddard \"Ned\" Stark</td>\n",
       "      <td>Main</td>\n",
       "      <td>NaN</td>\n",
       "      <td>NaN</td>\n",
       "      <td>NaN</td>\n",
       "      <td>NaN</td>\n",
       "      <td>Recurring[a]</td>\n",
       "      <td>Guest[b]</td>\n",
       "      <td>NaN</td>\n",
       "    </tr>\n",
       "    <tr>\n",
       "      <th>1</th>\n",
       "      <td>Mark Addy</td>\n",
       "      <td>Robert Baratheon</td>\n",
       "      <td>Main</td>\n",
       "      <td>NaN</td>\n",
       "      <td>NaN</td>\n",
       "      <td>NaN</td>\n",
       "      <td>NaN</td>\n",
       "      <td>NaN</td>\n",
       "      <td>NaN</td>\n",
       "      <td>NaN</td>\n",
       "    </tr>\n",
       "    <tr>\n",
       "      <th>2</th>\n",
       "      <td>Nikolaj Coster-Waldau</td>\n",
       "      <td>Jaime Lannister</td>\n",
       "      <td>Main</td>\n",
       "      <td>Main</td>\n",
       "      <td>Main</td>\n",
       "      <td>Main</td>\n",
       "      <td>Main</td>\n",
       "      <td>Main</td>\n",
       "      <td>Main</td>\n",
       "      <td>Main</td>\n",
       "    </tr>\n",
       "    <tr>\n",
       "      <th>3</th>\n",
       "      <td>Michelle Fairley</td>\n",
       "      <td>Catelyn Stark</td>\n",
       "      <td>Main</td>\n",
       "      <td>Main</td>\n",
       "      <td>Main</td>\n",
       "      <td>NaN</td>\n",
       "      <td>NaN</td>\n",
       "      <td>NaN</td>\n",
       "      <td>NaN</td>\n",
       "      <td>NaN</td>\n",
       "    </tr>\n",
       "    <tr>\n",
       "      <th>4</th>\n",
       "      <td>Lena Headey</td>\n",
       "      <td>Cersei Lannister</td>\n",
       "      <td>Main[c]</td>\n",
       "      <td>Main[c]</td>\n",
       "      <td>Main[c]</td>\n",
       "      <td>Main[c]</td>\n",
       "      <td>Main[c]</td>\n",
       "      <td>Main[c]</td>\n",
       "      <td>Main[c]</td>\n",
       "      <td>Main[c]</td>\n",
       "    </tr>\n",
       "  </tbody>\n",
       "</table>\n",
       "</div>"
      ],
      "text/plain": [
       "                   Actor           Character Appearances                    \\\n",
       "                   Actor           Character           1        2        3   \n",
       "0              Sean Bean  Eddard \"Ned\" Stark        Main      NaN      NaN   \n",
       "1              Mark Addy    Robert Baratheon        Main      NaN      NaN   \n",
       "2  Nikolaj Coster-Waldau     Jaime Lannister        Main     Main     Main   \n",
       "3       Michelle Fairley       Catelyn Stark        Main     Main     Main   \n",
       "4            Lena Headey    Cersei Lannister     Main[c]  Main[c]  Main[c]   \n",
       "\n",
       "                                                      \n",
       "         4        5             6         7        8  \n",
       "0      NaN      NaN  Recurring[a]  Guest[b]      NaN  \n",
       "1      NaN      NaN           NaN       NaN      NaN  \n",
       "2     Main     Main          Main      Main     Main  \n",
       "3      NaN      NaN           NaN       NaN      NaN  \n",
       "4  Main[c]  Main[c]       Main[c]   Main[c]  Main[c]  "
      ]
     },
     "execution_count": 5,
     "metadata": {},
     "output_type": "execute_result"
    }
   ],
   "source": [
    "main_cast = table_MN[3]\n",
    "main_cast.head()"
   ]
  },
  {
   "cell_type": "code",
   "execution_count": 6,
   "metadata": {},
   "outputs": [
    {
     "data": {
      "text/plain": [
       "(44, 10)"
      ]
     },
     "execution_count": 6,
     "metadata": {},
     "output_type": "execute_result"
    }
   ],
   "source": [
    "main_cast.shape"
   ]
  },
  {
   "cell_type": "code",
   "execution_count": 7,
   "metadata": {},
   "outputs": [
    {
     "data": {
      "text/html": [
       "<div>\n",
       "<style scoped>\n",
       "    .dataframe tbody tr th:only-of-type {\n",
       "        vertical-align: middle;\n",
       "    }\n",
       "\n",
       "    .dataframe tbody tr th {\n",
       "        vertical-align: top;\n",
       "    }\n",
       "\n",
       "    .dataframe thead th {\n",
       "        text-align: right;\n",
       "    }\n",
       "</style>\n",
       "<table border=\"1\" class=\"dataframe\">\n",
       "  <thead>\n",
       "    <tr style=\"text-align: right;\">\n",
       "      <th></th>\n",
       "      <th>Character</th>\n",
       "    </tr>\n",
       "  </thead>\n",
       "  <tbody>\n",
       "    <tr>\n",
       "      <th>0</th>\n",
       "      <td>Eddard \"Ned\" Stark</td>\n",
       "    </tr>\n",
       "    <tr>\n",
       "      <th>1</th>\n",
       "      <td>Robert Baratheon</td>\n",
       "    </tr>\n",
       "    <tr>\n",
       "      <th>2</th>\n",
       "      <td>Jaime Lannister</td>\n",
       "    </tr>\n",
       "    <tr>\n",
       "      <th>3</th>\n",
       "      <td>Catelyn Stark</td>\n",
       "    </tr>\n",
       "    <tr>\n",
       "      <th>4</th>\n",
       "      <td>Cersei Lannister</td>\n",
       "    </tr>\n",
       "  </tbody>\n",
       "</table>\n",
       "</div>"
      ],
      "text/plain": [
       "            Character\n",
       "0  Eddard \"Ned\" Stark\n",
       "1    Robert Baratheon\n",
       "2     Jaime Lannister\n",
       "3       Catelyn Stark\n",
       "4    Cersei Lannister"
      ]
     },
     "execution_count": 7,
     "metadata": {},
     "output_type": "execute_result"
    }
   ],
   "source": [
    "main_char = main_cast['Character']\n",
    "\n",
    "main_char.head()"
   ]
  },
  {
   "cell_type": "markdown",
   "metadata": {},
   "source": [
    "#### Recurring characters"
   ]
  },
  {
   "cell_type": "code",
   "execution_count": 8,
   "metadata": {},
   "outputs": [
    {
     "data": {
      "text/html": [
       "<div>\n",
       "<style scoped>\n",
       "    .dataframe tbody tr th:only-of-type {\n",
       "        vertical-align: middle;\n",
       "    }\n",
       "\n",
       "    .dataframe tbody tr th {\n",
       "        vertical-align: top;\n",
       "    }\n",
       "\n",
       "    .dataframe thead tr th {\n",
       "        text-align: left;\n",
       "    }\n",
       "</style>\n",
       "<table border=\"1\" class=\"dataframe\">\n",
       "  <thead>\n",
       "    <tr>\n",
       "      <th></th>\n",
       "      <th>Actor</th>\n",
       "      <th>Character</th>\n",
       "      <th colspan=\"8\" halign=\"left\">Appearances</th>\n",
       "    </tr>\n",
       "    <tr>\n",
       "      <th></th>\n",
       "      <th>Actor</th>\n",
       "      <th>Character</th>\n",
       "      <th>1</th>\n",
       "      <th>2</th>\n",
       "      <th>3</th>\n",
       "      <th>4</th>\n",
       "      <th>5</th>\n",
       "      <th>6</th>\n",
       "      <th>7</th>\n",
       "      <th>8</th>\n",
       "    </tr>\n",
       "  </thead>\n",
       "  <tbody>\n",
       "    <tr>\n",
       "      <th>0</th>\n",
       "      <td>Donald Sumpter</td>\n",
       "      <td>Maester Luwin</td>\n",
       "      <td>Recurring</td>\n",
       "      <td>Recurring</td>\n",
       "      <td>NaN</td>\n",
       "      <td>NaN</td>\n",
       "      <td>NaN</td>\n",
       "      <td>NaN</td>\n",
       "      <td>NaN</td>\n",
       "      <td>NaN</td>\n",
       "    </tr>\n",
       "    <tr>\n",
       "      <th>1</th>\n",
       "      <td>Jamie Sives</td>\n",
       "      <td>Jory Cassel</td>\n",
       "      <td>Recurring</td>\n",
       "      <td>NaN</td>\n",
       "      <td>NaN</td>\n",
       "      <td>NaN</td>\n",
       "      <td>NaN</td>\n",
       "      <td>NaN</td>\n",
       "      <td>NaN</td>\n",
       "      <td>NaN</td>\n",
       "    </tr>\n",
       "    <tr>\n",
       "      <th>2</th>\n",
       "      <td>Ron Donachie</td>\n",
       "      <td>Rodrik Cassel</td>\n",
       "      <td>Recurring</td>\n",
       "      <td>Recurring</td>\n",
       "      <td>NaN</td>\n",
       "      <td>NaN</td>\n",
       "      <td>NaN</td>\n",
       "      <td>Guest[a]</td>\n",
       "      <td>NaN</td>\n",
       "      <td>NaN</td>\n",
       "    </tr>\n",
       "    <tr>\n",
       "      <th>3</th>\n",
       "      <td>Joseph Mawle</td>\n",
       "      <td>Benjen Stark</td>\n",
       "      <td>Recurring</td>\n",
       "      <td>NaN</td>\n",
       "      <td>NaN</td>\n",
       "      <td>NaN</td>\n",
       "      <td>NaN</td>\n",
       "      <td>Recurring[b]</td>\n",
       "      <td>Guest</td>\n",
       "      <td>NaN</td>\n",
       "    </tr>\n",
       "    <tr>\n",
       "      <th>4</th>\n",
       "      <td>Dar Salim</td>\n",
       "      <td>Qotho</td>\n",
       "      <td>Recurring</td>\n",
       "      <td>NaN</td>\n",
       "      <td>NaN</td>\n",
       "      <td>NaN</td>\n",
       "      <td>NaN</td>\n",
       "      <td>NaN</td>\n",
       "      <td>NaN</td>\n",
       "      <td>NaN</td>\n",
       "    </tr>\n",
       "  </tbody>\n",
       "</table>\n",
       "</div>"
      ],
      "text/plain": [
       "            Actor      Character Appearances                            \\\n",
       "            Actor      Character           1          2    3    4    5   \n",
       "0  Donald Sumpter  Maester Luwin   Recurring  Recurring  NaN  NaN  NaN   \n",
       "1     Jamie Sives    Jory Cassel   Recurring        NaN  NaN  NaN  NaN   \n",
       "2    Ron Donachie  Rodrik Cassel   Recurring  Recurring  NaN  NaN  NaN   \n",
       "3    Joseph Mawle   Benjen Stark   Recurring        NaN  NaN  NaN  NaN   \n",
       "4       Dar Salim          Qotho   Recurring        NaN  NaN  NaN  NaN   \n",
       "\n",
       "                             \n",
       "              6      7    8  \n",
       "0           NaN    NaN  NaN  \n",
       "1           NaN    NaN  NaN  \n",
       "2      Guest[a]    NaN  NaN  \n",
       "3  Recurring[b]  Guest  NaN  \n",
       "4           NaN    NaN  NaN  "
      ]
     },
     "execution_count": 8,
     "metadata": {},
     "output_type": "execute_result"
    }
   ],
   "source": [
    "recurr_cast = table_MN[4]\n",
    "recurr_cast.head()"
   ]
  },
  {
   "cell_type": "code",
   "execution_count": 9,
   "metadata": {},
   "outputs": [
    {
     "data": {
      "text/plain": [
       "(118, 10)"
      ]
     },
     "execution_count": 9,
     "metadata": {},
     "output_type": "execute_result"
    }
   ],
   "source": [
    "recurr_cast.shape"
   ]
  },
  {
   "cell_type": "code",
   "execution_count": 10,
   "metadata": {},
   "outputs": [
    {
     "data": {
      "text/html": [
       "<div>\n",
       "<style scoped>\n",
       "    .dataframe tbody tr th:only-of-type {\n",
       "        vertical-align: middle;\n",
       "    }\n",
       "\n",
       "    .dataframe tbody tr th {\n",
       "        vertical-align: top;\n",
       "    }\n",
       "\n",
       "    .dataframe thead th {\n",
       "        text-align: right;\n",
       "    }\n",
       "</style>\n",
       "<table border=\"1\" class=\"dataframe\">\n",
       "  <thead>\n",
       "    <tr style=\"text-align: right;\">\n",
       "      <th></th>\n",
       "      <th>Character</th>\n",
       "    </tr>\n",
       "  </thead>\n",
       "  <tbody>\n",
       "    <tr>\n",
       "      <th>0</th>\n",
       "      <td>Maester Luwin</td>\n",
       "    </tr>\n",
       "    <tr>\n",
       "      <th>1</th>\n",
       "      <td>Jory Cassel</td>\n",
       "    </tr>\n",
       "    <tr>\n",
       "      <th>2</th>\n",
       "      <td>Rodrik Cassel</td>\n",
       "    </tr>\n",
       "    <tr>\n",
       "      <th>3</th>\n",
       "      <td>Benjen Stark</td>\n",
       "    </tr>\n",
       "    <tr>\n",
       "      <th>4</th>\n",
       "      <td>Qotho</td>\n",
       "    </tr>\n",
       "  </tbody>\n",
       "</table>\n",
       "</div>"
      ],
      "text/plain": [
       "       Character\n",
       "0  Maester Luwin\n",
       "1    Jory Cassel\n",
       "2  Rodrik Cassel\n",
       "3   Benjen Stark\n",
       "4          Qotho"
      ]
     },
     "execution_count": 10,
     "metadata": {},
     "output_type": "execute_result"
    }
   ],
   "source": [
    "recurr_char = recurr_cast['Character']\n",
    "\n",
    "recurr_char.head()"
   ]
  },
  {
   "cell_type": "markdown",
   "metadata": {},
   "source": [
    "#### Merge 2 character tables"
   ]
  },
  {
   "cell_type": "code",
   "execution_count": 11,
   "metadata": {},
   "outputs": [
    {
     "data": {
      "text/html": [
       "<div>\n",
       "<style scoped>\n",
       "    .dataframe tbody tr th:only-of-type {\n",
       "        vertical-align: middle;\n",
       "    }\n",
       "\n",
       "    .dataframe tbody tr th {\n",
       "        vertical-align: top;\n",
       "    }\n",
       "\n",
       "    .dataframe thead th {\n",
       "        text-align: right;\n",
       "    }\n",
       "</style>\n",
       "<table border=\"1\" class=\"dataframe\">\n",
       "  <thead>\n",
       "    <tr style=\"text-align: right;\">\n",
       "      <th></th>\n",
       "      <th>Character</th>\n",
       "    </tr>\n",
       "  </thead>\n",
       "  <tbody>\n",
       "    <tr>\n",
       "      <th>0</th>\n",
       "      <td>Eddard \"Ned\" Stark</td>\n",
       "    </tr>\n",
       "    <tr>\n",
       "      <th>1</th>\n",
       "      <td>Robert Baratheon</td>\n",
       "    </tr>\n",
       "    <tr>\n",
       "      <th>2</th>\n",
       "      <td>Jaime Lannister</td>\n",
       "    </tr>\n",
       "    <tr>\n",
       "      <th>3</th>\n",
       "      <td>Catelyn Stark</td>\n",
       "    </tr>\n",
       "    <tr>\n",
       "      <th>4</th>\n",
       "      <td>Cersei Lannister</td>\n",
       "    </tr>\n",
       "    <tr>\n",
       "      <th>...</th>\n",
       "      <td>...</td>\n",
       "    </tr>\n",
       "    <tr>\n",
       "      <th>157</th>\n",
       "      <td>Randyll Tarly</td>\n",
       "    </tr>\n",
       "    <tr>\n",
       "      <th>158</th>\n",
       "      <td>Dickon Tarly</td>\n",
       "    </tr>\n",
       "    <tr>\n",
       "      <th>159</th>\n",
       "      <td>Harrag</td>\n",
       "    </tr>\n",
       "    <tr>\n",
       "      <th>160</th>\n",
       "      <td>Night King</td>\n",
       "    </tr>\n",
       "    <tr>\n",
       "      <th>161</th>\n",
       "      <td>Alys Karstark</td>\n",
       "    </tr>\n",
       "  </tbody>\n",
       "</table>\n",
       "<p>162 rows × 1 columns</p>\n",
       "</div>"
      ],
      "text/plain": [
       "              Character\n",
       "0    Eddard \"Ned\" Stark\n",
       "1      Robert Baratheon\n",
       "2       Jaime Lannister\n",
       "3         Catelyn Stark\n",
       "4      Cersei Lannister\n",
       "..                  ...\n",
       "157       Randyll Tarly\n",
       "158        Dickon Tarly\n",
       "159              Harrag\n",
       "160          Night King\n",
       "161       Alys Karstark\n",
       "\n",
       "[162 rows x 1 columns]"
      ]
     },
     "execution_count": 11,
     "metadata": {},
     "output_type": "execute_result"
    }
   ],
   "source": [
    "characters = pd.concat([main_char, recurr_char], ignore_index=True)\n",
    "\n",
    "characters.shape\n",
    "\n",
    "characters"
   ]
  },
  {
   "cell_type": "code",
   "execution_count": 12,
   "metadata": {},
   "outputs": [],
   "source": [
    "import re\n",
    "# Helper to get nickname\n",
    "def first_val(list):\n",
    "    if len(list) > 0:\n",
    "        return list[0]\n",
    "    else:\n",
    "        return 'NaN'\n",
    "# Extract nick name\n",
    "characters['Character_nickname'] = characters['Character'].apply(lambda x: re.findall('\\\".*?\\\"',x))\n",
    "characters['Character_nickname'] = characters['Character_nickname'].apply(lambda x: first_val(x).replace('\\\"', ''))\n",
    "# Extract first name\n",
    "characters['Character_firstname'] = characters['Character'].apply(lambda x: x.split(' ', 1)[0])\n",
    "# Filter from Character name\n",
    "characters['Character'] = characters['Character'].apply(lambda x: re.sub('\\\".*?\\\"','',x))\n",
    "# Fix double 'space'\n",
    "characters['Character'] = characters['Character'].apply(lambda x: re.sub('  ',' ', x))"
   ]
  },
  {
   "cell_type": "code",
   "execution_count": 23,
   "metadata": {},
   "outputs": [
    {
     "data": {
      "text/html": [
       "<div>\n",
       "<style scoped>\n",
       "    .dataframe tbody tr th:only-of-type {\n",
       "        vertical-align: middle;\n",
       "    }\n",
       "\n",
       "    .dataframe tbody tr th {\n",
       "        vertical-align: top;\n",
       "    }\n",
       "\n",
       "    .dataframe thead th {\n",
       "        text-align: right;\n",
       "    }\n",
       "</style>\n",
       "<table border=\"1\" class=\"dataframe\">\n",
       "  <thead>\n",
       "    <tr style=\"text-align: right;\">\n",
       "      <th></th>\n",
       "      <th>Character</th>\n",
       "      <th>Character_nickname</th>\n",
       "      <th>Character_firstname</th>\n",
       "    </tr>\n",
       "  </thead>\n",
       "  <tbody>\n",
       "    <tr>\n",
       "      <th>0</th>\n",
       "      <td>Eddard Stark</td>\n",
       "      <td>Ned</td>\n",
       "      <td>Eddard</td>\n",
       "    </tr>\n",
       "    <tr>\n",
       "      <th>1</th>\n",
       "      <td>Robert Baratheon</td>\n",
       "      <td>NaN</td>\n",
       "      <td>Robert</td>\n",
       "    </tr>\n",
       "    <tr>\n",
       "      <th>2</th>\n",
       "      <td>Jaime Lannister</td>\n",
       "      <td>NaN</td>\n",
       "      <td>Jaime</td>\n",
       "    </tr>\n",
       "    <tr>\n",
       "      <th>3</th>\n",
       "      <td>Catelyn Stark</td>\n",
       "      <td>NaN</td>\n",
       "      <td>Catelyn</td>\n",
       "    </tr>\n",
       "    <tr>\n",
       "      <th>4</th>\n",
       "      <td>Cersei Lannister</td>\n",
       "      <td>NaN</td>\n",
       "      <td>Cersei</td>\n",
       "    </tr>\n",
       "    <tr>\n",
       "      <th>5</th>\n",
       "      <td>Daenerys Targaryen</td>\n",
       "      <td>NaN</td>\n",
       "      <td>Daenerys</td>\n",
       "    </tr>\n",
       "    <tr>\n",
       "      <th>6</th>\n",
       "      <td>Jorah Mormont</td>\n",
       "      <td>NaN</td>\n",
       "      <td>Jorah</td>\n",
       "    </tr>\n",
       "    <tr>\n",
       "      <th>7</th>\n",
       "      <td>Viserys Targaryen</td>\n",
       "      <td>NaN</td>\n",
       "      <td>Viserys</td>\n",
       "    </tr>\n",
       "    <tr>\n",
       "      <th>8</th>\n",
       "      <td>Jon Snow</td>\n",
       "      <td>NaN</td>\n",
       "      <td>Jon</td>\n",
       "    </tr>\n",
       "    <tr>\n",
       "      <th>9</th>\n",
       "      <td>Robb Stark</td>\n",
       "      <td>NaN</td>\n",
       "      <td>Robb</td>\n",
       "    </tr>\n",
       "  </tbody>\n",
       "</table>\n",
       "</div>"
      ],
      "text/plain": [
       "            Character Character_nickname Character_firstname\n",
       "0        Eddard Stark                Ned              Eddard\n",
       "1    Robert Baratheon                NaN              Robert\n",
       "2     Jaime Lannister                NaN               Jaime\n",
       "3       Catelyn Stark                NaN             Catelyn\n",
       "4    Cersei Lannister                NaN              Cersei\n",
       "5  Daenerys Targaryen                NaN            Daenerys\n",
       "6       Jorah Mormont                NaN               Jorah\n",
       "7   Viserys Targaryen                NaN             Viserys\n",
       "8            Jon Snow                NaN                 Jon\n",
       "9          Robb Stark                NaN                Robb"
      ]
     },
     "execution_count": 23,
     "metadata": {},
     "output_type": "execute_result"
    }
   ],
   "source": [
    "# Check char list(or open csv once created...)\n",
    "pd.set_option('display.max_rows', None)\n",
    "characters.head(10)"
   ]
  },
  {
   "cell_type": "code",
   "execution_count": 20,
   "metadata": {},
   "outputs": [],
   "source": [
    "# Quick fixes char (Names that can be missinterpreted if unchanged)\n",
    "characters.Character_firstname[17] = 'Drogo' # Khal Drogo\n",
    "characters.Character_firstname[42] = 'High Sparrow'\n",
    "characters.Character[42] = 'High Sparrow'\n",
    "characters.Character_firstname[43] = 'Grey Worm'\n",
    "characters.Character_firstname[44] = 'Maester Luwin' \n",
    "characters.Character_firstname[61] = 'Maester Pycelle'\n",
    "characters.Character_firstname[63] = 'Maester Aemon'\n",
    "characters.Character_firstname[98] = 'Black Lorren'\n",
    "characters.Character_firstname[124] = 'High Septon'\n",
    "characters.Character_firstname[114] = 'Little Sam'\n",
    "characters.Character_firstname[132] = 'The Waif' \n",
    "characters.Character_firstname[139] = 'Moro' # Khal Moro\n",
    "characters.Character_firstname[146] = 'Lady Crane'\n",
    "characters.Character_firstname[149] = 'Black Walder'\n",
    "characters.Character_firstname[156] = 'Maester Wolkan'\n",
    "characters.Character_firstname[160] = 'Night King'"
   ]
  },
  {
   "cell_type": "markdown",
   "metadata": {},
   "source": [
    "### Create 'characters.csv'"
   ]
  },
  {
   "cell_type": "code",
   "execution_count": 22,
   "metadata": {},
   "outputs": [
    {
     "data": {
      "text/plain": [
       "4424"
      ]
     },
     "execution_count": 22,
     "metadata": {},
     "output_type": "execute_result"
    }
   ],
   "source": [
    "string = characters.to_csv(sep=',')\n",
    "\n",
    "f = open('characters.csv',\"w+\")\n",
    "f.write(string)"
   ]
  }
 ],
 "metadata": {
  "kernelspec": {
   "display_name": "Python 3.10.2 64-bit",
   "language": "python",
   "name": "python3"
  },
  "language_info": {
   "codemirror_mode": {
    "name": "ipython",
    "version": 3
   },
   "file_extension": ".py",
   "mimetype": "text/x-python",
   "name": "python",
   "nbconvert_exporter": "python",
   "pygments_lexer": "ipython3",
   "version": "3.10.2"
  },
  "orig_nbformat": 4,
  "vscode": {
   "interpreter": {
    "hash": "aee8b7b246df8f9039afb4144a1f6fd8d2ca17a180786b69acc140d282b71a49"
   }
  }
 },
 "nbformat": 4,
 "nbformat_minor": 2
}
