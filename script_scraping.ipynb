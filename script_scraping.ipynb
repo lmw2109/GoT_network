{
 "cells": [
  {
   "cell_type": "markdown",
   "metadata": {},
   "source": [
    "## Web-scraping - Game of Thrones - Episode Scripts Of All Seasons\n",
    "\n",
    "**Quick Note**\n",
    "\n",
    "> This is my very first time doing web-scraping. Possible improvement by using an action manager of some sort. Didn't want to waste too much time on this.\n",
    "\n",
    "This notebook gets all episodes-scripts of the popular HBO series 'Game of Thrones' and writes them into text files. \n",
    "\n",
    "The script.txt's are then organized into it's respective season directory which are also created by this file. \n",
    "\n",
    "**Sources**\n",
    "- [Source](https://genius.com/artists/Game-of-thrones)\n",
    "- [Selenium Documenation](https://selenium-python.readthedocs.io/)"
   ]
  },
  {
   "cell_type": "markdown",
   "metadata": {},
   "source": [
    "### Import the necessary tools"
   ]
  },
  {
   "cell_type": "code",
   "execution_count": null,
   "metadata": {},
   "outputs": [],
   "source": [
    "import time\n",
    "from selenium import webdriver\n",
    "from selenium.webdriver.common.by import By\n",
    "from webdriver_manager.chrome import ChromeDriverManager"
   ]
  },
  {
   "cell_type": "markdown",
   "metadata": {},
   "source": [
    "### Navigate to get all seasons"
   ]
  },
  {
   "cell_type": "code",
   "execution_count": null,
   "metadata": {},
   "outputs": [],
   "source": [
    "# webpage of interest\n",
    "page_url = \"https://genius.com/artists/Game-of-thrones\"\n",
    "\n",
    "# Create driver\n",
    "driver = webdriver.Chrome(ChromeDriverManager().install())\n",
    "\n",
    "# Open page url\n",
    "driver.get(page_url)\n",
    "\n",
    "# Wait for the cookie banner to load\n",
    "time.sleep(3)\n",
    "\n",
    "# Accept cookies\n",
    "driver.find_element(By.XPATH, '//button[text()=\"I Accept\"]').click()\n",
    "\n",
    "# Open season overview\n",
    "driver.find_element(By.XPATH, \"/html/body/routable-page/ng-outlet/routable-profile-page/ng-outlet/routed-page/profile-page/div[3]/div[2]/artist-songs-and-albums/album-grid/div[2]\").click()\n",
    "\n",
    "# wait 2 seconds for the script view to load\n",
    "time.sleep(2)\n",
    "\n",
    "# create a list with all season elements\n",
    "season_elements = driver.find_elements(By.CSS_SELECTOR, \"[class*='mini_card mini_card--small']\")\n",
    "\n",
    "# Create list with all seasons\n",
    "seasons = []\n",
    "for i in range(0, len(season_elements)):\n",
    "    url = season_elements[i].get_attribute('href')\n",
    "    desc = season_elements[i].text.replace('Scripts', '')\n",
    "    seasons.append({'Description': desc, \"url\": url})\n",
    "\n",
    "# Check seasons\n",
    "seasons"
   ]
  },
  {
   "cell_type": "markdown",
   "metadata": {},
   "source": [
    "### Create Season-Episode catalogues"
   ]
  },
  {
   "cell_type": "code",
   "execution_count": null,
   "metadata": {},
   "outputs": [],
   "source": [
    "# Declaring each season as a variable helps me prevent loading time errors when getting each episode...\n",
    "season_1 = seasons[7]\n",
    "season_2 = seasons[6]\n",
    "season_3 = seasons[5]\n",
    "season_4 = seasons[4]\n",
    "season_5 = seasons[3]\n",
    "season_6 = seasons[2]\n",
    "season_7 = seasons[1]\n",
    "season_8 = seasons[0]"
   ]
  },
  {
   "cell_type": "code",
   "execution_count": null,
   "metadata": {},
   "outputs": [],
   "source": [
    "# get season 1 episodes\n",
    "driver.get(season_1['url'])\n",
    "\n",
    "episode_elements = driver.find_elements(By.CSS_SELECTOR, \"[class*='u-display_block']\")\n",
    "\n",
    "s1_episodes = []\n",
    "for ep in episode_elements:\n",
    "    if ep.get_attribute('href'):\n",
    "        url = ep.get_attribute('href')\n",
    "        desc = ep.text.replace(' Lyrics', '')\n",
    "        s1_episodes.append({'Description': desc, \"url\": url})\n",
    "\n",
    "# Check s1 episodes\n",
    "s1_episodes"
   ]
  },
  {
   "cell_type": "code",
   "execution_count": null,
   "metadata": {},
   "outputs": [],
   "source": [
    "# get season 2 episodes\n",
    "driver.get(season_2['url'])\n",
    "\n",
    "episode_elements = driver.find_elements(By.CSS_SELECTOR, \"[class*='u-display_block']\")\n",
    "\n",
    "s2_episodes = []\n",
    "for ep in episode_elements:\n",
    "    if ep.get_attribute('href'):\n",
    "        url = ep.get_attribute('href')\n",
    "        desc = ep.text.replace(' Lyrics', '')\n",
    "        s2_episodes.append({'Description': desc, \"url\": url})\n",
    "\n",
    "# Check s2 episodes\n",
    "s2_episodes"
   ]
  },
  {
   "cell_type": "code",
   "execution_count": null,
   "metadata": {},
   "outputs": [],
   "source": [
    "# get season 3 episodes\n",
    "driver.get(season_3['url'])\n",
    "\n",
    "episode_elements = driver.find_elements(By.CSS_SELECTOR, \"[class*='u-display_block']\")\n",
    "\n",
    "s3_episodes = []\n",
    "for ep in episode_elements:\n",
    "    if ep.get_attribute('href'):\n",
    "        url = ep.get_attribute('href')\n",
    "        desc = ep.text.replace(' Lyrics', '')\n",
    "        s3_episodes.append({'Description': desc, \"url\": url})\n",
    "\n",
    "# Check s3 episodes\n",
    "s3_episodes"
   ]
  },
  {
   "cell_type": "code",
   "execution_count": null,
   "metadata": {},
   "outputs": [],
   "source": [
    "# get season 4 episodes\n",
    "driver.get(season_4['url'])\n",
    "\n",
    "episode_elements = driver.find_elements(By.CSS_SELECTOR, \"[class*='u-display_block']\")\n",
    "\n",
    "s4_episodes = []\n",
    "for ep in episode_elements:\n",
    "    if ep.get_attribute('href'):\n",
    "        url = ep.get_attribute('href')\n",
    "        desc = ep.text.replace(' Lyrics', '')\n",
    "        s4_episodes.append({'Description': desc, \"url\": url})\n",
    "\n",
    "# Check s4 episodes\n",
    "s4_episodes"
   ]
  },
  {
   "cell_type": "code",
   "execution_count": null,
   "metadata": {},
   "outputs": [],
   "source": [
    "# get season 5 episodes\n",
    "driver.get(season_5['url'])\n",
    "\n",
    "episode_elements = driver.find_elements(By.CSS_SELECTOR, \"[class*='u-display_block']\")\n",
    "\n",
    "s5_episodes = []\n",
    "for ep in episode_elements:\n",
    "    if ep.get_attribute('href'):\n",
    "        url = ep.get_attribute('href')\n",
    "        desc = ep.text.replace(' Lyrics', '')\n",
    "        s5_episodes.append({'Description': desc, \"url\": url})\n",
    "\n",
    "# Check s5 episodes\n",
    "s5_episodes"
   ]
  },
  {
   "cell_type": "code",
   "execution_count": null,
   "metadata": {},
   "outputs": [],
   "source": [
    "# get season 6 episodes\n",
    "driver.get(season_6['url'])\n",
    "\n",
    "episode_elements = driver.find_elements(By.CSS_SELECTOR, \"[class*='u-display_block']\")\n",
    "\n",
    "s6_episodes = []\n",
    "for ep in episode_elements:\n",
    "    if ep.get_attribute('href'):\n",
    "        url = ep.get_attribute('href')\n",
    "        desc = ep.text.replace(' Lyrics', '')\n",
    "        s6_episodes.append({'Description': desc, \"url\": url})\n",
    "\n",
    "# Check s6 episodes\n",
    "s6_episodes"
   ]
  },
  {
   "cell_type": "code",
   "execution_count": null,
   "metadata": {},
   "outputs": [],
   "source": [
    "# get season 7 episodes\n",
    "driver.get(season_7['url'])\n",
    "\n",
    "episode_elements = driver.find_elements(By.CSS_SELECTOR, \"[class*='u-display_block']\")\n",
    "\n",
    "s7_episodes = []\n",
    "for ep in episode_elements:\n",
    "    if ep.get_attribute('href'):\n",
    "        url = ep.get_attribute('href')\n",
    "        desc = ep.text.replace(' Lyrics', '')\n",
    "        s7_episodes.append({'Description': desc, \"url\": url})\n",
    "\n",
    "# Check s7 episodes\n",
    "s7_episodes"
   ]
  },
  {
   "cell_type": "code",
   "execution_count": null,
   "metadata": {},
   "outputs": [],
   "source": [
    "# get season 8 episodes\n",
    "driver.get(season_8['url'])\n",
    "\n",
    "episode_elements = driver.find_elements(By.CSS_SELECTOR, \"[class*='u-display_block']\")\n",
    "\n",
    "s8_episodes = []\n",
    "for ep in episode_elements:\n",
    "    if ep.get_attribute('href'):\n",
    "        url = ep.get_attribute('href')\n",
    "        desc = ep.text.replace(' Lyrics', '')\n",
    "        s8_episodes.append({'Description': desc, \"url\": url})\n",
    "\n",
    "# Check s8 episodes\n",
    "s8_episodes"
   ]
  },
  {
   "cell_type": "markdown",
   "metadata": {},
   "source": [
    "### Create episode script text files and organize them in sub-directorys by season"
   ]
  },
  {
   "cell_type": "code",
   "execution_count": null,
   "metadata": {},
   "outputs": [],
   "source": [
    "import os\n",
    "import shutil"
   ]
  },
  {
   "cell_type": "code",
   "execution_count": null,
   "metadata": {},
   "outputs": [],
   "source": [
    "# Function to create sub-dir, create text files and move to subdir\n",
    "def create_script(fol, season_episodes):\n",
    "    # if not exists create directory\n",
    "    if not os.path.exists(fol):\n",
    "        os.makedirs(fol)\n",
    "    # get cwd\n",
    "    cwd = os.getcwd()\n",
    "    # get fol path\n",
    "    fol_path = cwd + '/' + str(fol)\n",
    "    # get season episodes scripts\n",
    "    for episode in season_episodes:\n",
    "        # get episode script\n",
    "        driver.get(episode['url'])\n",
    "        # Wait for url to load\n",
    "        time.sleep(3)\n",
    "        # find script containers\n",
    "        scripts = driver.find_elements(By.CSS_SELECTOR, \"[class*='Lyrics__Container-sc-1ynbvzw-6 jYfhrf'\")\n",
    "        for script in scripts:\n",
    "            # get file name\n",
    "            file_name = str(episode['Description']) + '.txt'\n",
    "            # If file is composed of multiple data containers\n",
    "            fol_file_path = str(fol_path) + '/' + str(file_name)\n",
    "            # prints everytime a file is being written (on)\n",
    "            print(fol_file_path)\n",
    "            if os.path.isfile(fol_file_path):\n",
    "                with open(fol_file_path, 'a') as f:\n",
    "                    f.write('\\n')\n",
    "                    f.write(script.text)\n",
    "            else:\n",
    "                # create file\n",
    "                f = open(file_name,\"w+\")\n",
    "                # write in data\n",
    "                f.write(script.text)\n",
    "                # wait for write operation\n",
    "                time.sleep(3)\n",
    "                # get file path\n",
    "                file_path = cwd + '/' + str(file_name)\n",
    "                # move file to season directory\n",
    "                shutil.move(file_path, fol_path)\n",
    "        # wait for connection to load\n",
    "        time.sleep(3)"
   ]
  },
  {
   "cell_type": "markdown",
   "metadata": {},
   "source": [
    "#### Episodes of Season 1"
   ]
  },
  {
   "cell_type": "code",
   "execution_count": null,
   "metadata": {},
   "outputs": [],
   "source": [
    "create_script(\"Season 1\", s1_episodes)"
   ]
  },
  {
   "cell_type": "markdown",
   "metadata": {},
   "source": [
    "#### Episodes of Season 2"
   ]
  },
  {
   "cell_type": "code",
   "execution_count": null,
   "metadata": {},
   "outputs": [],
   "source": [
    "create_script(\"Season 2\", s2_episodes)"
   ]
  },
  {
   "cell_type": "markdown",
   "metadata": {},
   "source": [
    "#### Episodes of Season 3"
   ]
  },
  {
   "cell_type": "code",
   "execution_count": null,
   "metadata": {},
   "outputs": [],
   "source": [
    "create_script(\"Season 3\", s3_episodes)"
   ]
  },
  {
   "cell_type": "markdown",
   "metadata": {},
   "source": [
    "#### Episodes of Season 4"
   ]
  },
  {
   "cell_type": "code",
   "execution_count": null,
   "metadata": {},
   "outputs": [],
   "source": [
    "create_script(\"Season 4\", s4_episodes)"
   ]
  },
  {
   "cell_type": "markdown",
   "metadata": {},
   "source": [
    "#### Episodes of Season 5"
   ]
  },
  {
   "cell_type": "code",
   "execution_count": null,
   "metadata": {},
   "outputs": [],
   "source": [
    "create_script(\"Season 5\", s5_episodes)"
   ]
  },
  {
   "cell_type": "markdown",
   "metadata": {},
   "source": [
    "#### Episodes of Season 6"
   ]
  },
  {
   "cell_type": "code",
   "execution_count": null,
   "metadata": {},
   "outputs": [],
   "source": [
    "create_script(\"Season 6\", s6_episodes)"
   ]
  },
  {
   "cell_type": "markdown",
   "metadata": {},
   "source": [
    "#### Episodes of Season 7"
   ]
  },
  {
   "cell_type": "code",
   "execution_count": null,
   "metadata": {},
   "outputs": [],
   "source": [
    "create_script(\"Season 7\", s7_episodes)"
   ]
  },
  {
   "cell_type": "markdown",
   "metadata": {},
   "source": [
    "#### Episodes of Season 8"
   ]
  },
  {
   "cell_type": "code",
   "execution_count": null,
   "metadata": {},
   "outputs": [],
   "source": [
    "create_script(\"Season 8\", s8_episodes)"
   ]
  }
 ],
 "metadata": {
  "kernelspec": {
   "display_name": "Python 3.10.2 64-bit",
   "language": "python",
   "name": "python3"
  },
  "language_info": {
   "codemirror_mode": {
    "name": "ipython",
    "version": 3
   },
   "file_extension": ".py",
   "mimetype": "text/x-python",
   "name": "python",
   "nbconvert_exporter": "python",
   "pygments_lexer": "ipython3",
   "version": "3.10.2"
  },
  "orig_nbformat": 4,
  "vscode": {
   "interpreter": {
    "hash": "aee8b7b246df8f9039afb4144a1f6fd8d2ca17a180786b69acc140d282b71a49"
   }
  }
 },
 "nbformat": 4,
 "nbformat_minor": 2
}
