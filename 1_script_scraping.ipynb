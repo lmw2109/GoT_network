{
 "cells": [
  {
   "cell_type": "markdown",
   "metadata": {},
   "source": [
    "## Web-scraping - Game of Thrones - Episode Scripts Of All Seasons\n",
    "\n",
    "**Quick Note**\n",
    "\n",
    "> This is my very first time doing web-scraping. Possible improvement by using an action manager of some sort. Didn't want to waste too much time on this.\n",
    "\n",
    "This notebook gets all episodes-scripts of the popular HBO series 'Game of Thrones' and writes them into text files. \n",
    "\n",
    "The script.txt's are then organized into it's respective season directory which are also created by this file. \n",
    "\n",
    "**Sources**\n",
    "- [Source](https://genius.com/artists/Game-of-thrones)\n",
    "- [Selenium Documenation](https://selenium-python.readthedocs.io/)"
   ]
  },
  {
   "cell_type": "markdown",
   "metadata": {},
   "source": [
    "### Import the necessary tools"
   ]
  },
  {
   "cell_type": "code",
   "execution_count": 1,
   "metadata": {},
   "outputs": [],
   "source": [
    "import time\n",
    "from selenium import webdriver\n",
    "from selenium.webdriver.common.by import By\n",
    "from webdriver_manager.chrome import ChromeDriverManager"
   ]
  },
  {
   "cell_type": "markdown",
   "metadata": {},
   "source": [
    "### Navigate to get all seasons"
   ]
  },
  {
   "cell_type": "code",
   "execution_count": 2,
   "metadata": {},
   "outputs": [
    {
     "name": "stdout",
     "output_type": "stream",
     "text": [
      "\n"
     ]
    },
    {
     "name": "stderr",
     "output_type": "stream",
     "text": [
      "[WDM] - ====== WebDriver manager ======\n",
      "[WDM] - Current google-chrome version is 103.0.5060\n",
      "[WDM] - Get LATEST chromedriver version for 103.0.5060 google-chrome\n",
      "[WDM] - Driver [/Users/lucaswagner/.wdm/drivers/chromedriver/mac64_m1/103.0.5060.53/chromedriver] found in cache\n",
      "/var/folders/2w/xc4dn3zj455bg06t_gcxytmr0000gn/T/ipykernel_96779/649104051.py:5: DeprecationWarning: executable_path has been deprecated, please pass in a Service object\n",
      "  driver = webdriver.Chrome(ChromeDriverManager().install())\n"
     ]
    },
    {
     "data": {
      "text/plain": [
       "[{'Description': 'Season 8 \\n2019',\n",
       "  'url': 'https://genius.com/albums/Game-of-thrones/Season-8-scripts'},\n",
       " {'Description': 'Season 7 \\n2017',\n",
       "  'url': 'https://genius.com/albums/Game-of-thrones/Season-7-scripts'},\n",
       " {'Description': 'Season 6 \\n2016',\n",
       "  'url': 'https://genius.com/albums/Game-of-thrones/Season-6-scripts'},\n",
       " {'Description': 'Season 5 \\n2015',\n",
       "  'url': 'https://genius.com/albums/Game-of-thrones/Season-5-scripts'},\n",
       " {'Description': 'Season 4 \\n2014',\n",
       "  'url': 'https://genius.com/albums/Game-of-thrones/Season-4-scripts'},\n",
       " {'Description': 'Season 3 \\n2013',\n",
       "  'url': 'https://genius.com/albums/Game-of-thrones/Season-3-scripts'},\n",
       " {'Description': 'Season 2 \\n2012',\n",
       "  'url': 'https://genius.com/albums/Game-of-thrones/Season-2-scripts'},\n",
       " {'Description': 'Season 1 \\n2011',\n",
       "  'url': 'https://genius.com/albums/Game-of-thrones/Season-1-scripts'}]"
      ]
     },
     "execution_count": 2,
     "metadata": {},
     "output_type": "execute_result"
    }
   ],
   "source": [
    "# webpage of interest\n",
    "page_url = \"https://genius.com/artists/Game-of-thrones\"\n",
    "\n",
    "# Create driver\n",
    "driver = webdriver.Chrome(ChromeDriverManager().install())\n",
    "\n",
    "# Open page url\n",
    "driver.get(page_url)\n",
    "\n",
    "# Wait for the cookie banner to load\n",
    "time.sleep(3)\n",
    "\n",
    "# Accept cookies\n",
    "driver.find_element(By.XPATH, '//button[text()=\"I Accept\"]').click()\n",
    "\n",
    "# Open season overview\n",
    "driver.find_element(By.XPATH, \"/html/body/routable-page/ng-outlet/routable-profile-page/ng-outlet/routed-page/profile-page/div[3]/div[2]/artist-songs-and-albums/album-grid/div[2]\").click()\n",
    "\n",
    "# wait 2 seconds for the script view to load\n",
    "time.sleep(2)\n",
    "\n",
    "# create a list with all season elements\n",
    "season_elements = driver.find_elements(By.CSS_SELECTOR, \"[class*='mini_card mini_card--small']\")\n",
    "\n",
    "# Create list with all seasons\n",
    "seasons = []\n",
    "for i in range(0, len(season_elements)):\n",
    "    url = season_elements[i].get_attribute('href')\n",
    "    desc = season_elements[i].text.replace('Scripts', '')\n",
    "    seasons.append({'Description': desc, \"url\": url})\n",
    "\n",
    "# Check seasons\n",
    "seasons"
   ]
  },
  {
   "cell_type": "markdown",
   "metadata": {},
   "source": [
    "### Create Season-Episode catalogues"
   ]
  },
  {
   "cell_type": "code",
   "execution_count": 3,
   "metadata": {},
   "outputs": [],
   "source": [
    "# Declaring each season as a variable helps me prevent loading time errors when getting each episode...\n",
    "season_1 = seasons[7]\n",
    "season_2 = seasons[6]\n",
    "season_3 = seasons[5]\n",
    "season_4 = seasons[4]\n",
    "season_5 = seasons[3]\n",
    "season_6 = seasons[2]\n",
    "season_7 = seasons[1]\n",
    "season_8 = seasons[0]"
   ]
  },
  {
   "cell_type": "code",
   "execution_count": 4,
   "metadata": {},
   "outputs": [
    {
     "data": {
      "text/plain": [
       "[{'Description': 'Winter is Coming',\n",
       "  'url': 'https://genius.com/Game-of-thrones-winter-is-coming-annotated'},\n",
       " {'Description': 'The Kingsroad',\n",
       "  'url': 'https://genius.com/Game-of-thrones-the-kingsroad-annotated'},\n",
       " {'Description': 'Lord Snow',\n",
       "  'url': 'https://genius.com/Game-of-thrones-lord-snow-annotated'},\n",
       " {'Description': 'Cripples, Bastards and Broken Things',\n",
       "  'url': 'https://genius.com/Game-of-thrones-cripples-bastards-and-broken-things-annotated'},\n",
       " {'Description': 'The Wolf and the Lion',\n",
       "  'url': 'https://genius.com/Game-of-thrones-the-wolf-and-the-lion-annotated'},\n",
       " {'Description': 'A Golden Crown',\n",
       "  'url': 'https://genius.com/Game-of-thrones-a-golden-crown-annotated'},\n",
       " {'Description': 'You Win or You Die',\n",
       "  'url': 'https://genius.com/Game-of-thrones-you-win-or-you-die-annotated'},\n",
       " {'Description': 'The Pointy End',\n",
       "  'url': 'https://genius.com/Game-of-thrones-the-pointy-end-annotated'},\n",
       " {'Description': 'Baelor',\n",
       "  'url': 'https://genius.com/Game-of-thrones-baelor-annotated'},\n",
       " {'Description': 'Fire and Blood',\n",
       "  'url': 'https://genius.com/Game-of-thrones-fire-and-blood-annotated'}]"
      ]
     },
     "execution_count": 4,
     "metadata": {},
     "output_type": "execute_result"
    }
   ],
   "source": [
    "# get season 1 episodes\n",
    "driver.get(season_1['url'])\n",
    "\n",
    "episode_elements = driver.find_elements(By.CSS_SELECTOR, \"[class*='u-display_block']\")\n",
    "\n",
    "s1_episodes = []\n",
    "for ep in episode_elements:\n",
    "    if ep.get_attribute('href'):\n",
    "        url = ep.get_attribute('href')\n",
    "        desc = ep.text.replace(' Lyrics', '')\n",
    "        s1_episodes.append({'Description': desc, \"url\": url})\n",
    "\n",
    "# Check s1 episodes\n",
    "s1_episodes"
   ]
  },
  {
   "cell_type": "code",
   "execution_count": 6,
   "metadata": {},
   "outputs": [
    {
     "data": {
      "text/plain": [
       "[{'Description': 'The North Remembers',\n",
       "  'url': 'https://genius.com/Game-of-thrones-the-north-remembers-annotated'},\n",
       " {'Description': 'The Night Lands',\n",
       "  'url': 'https://genius.com/Game-of-thrones-the-night-lands-annotated'},\n",
       " {'Description': 'What Is Dead May Never Die',\n",
       "  'url': 'https://genius.com/Game-of-thrones-what-is-dead-may-never-die-annotated'},\n",
       " {'Description': 'Garden of Bones',\n",
       "  'url': 'https://genius.com/Game-of-thrones-garden-of-bones-annotated'},\n",
       " {'Description': 'The Ghost of Harrenhal',\n",
       "  'url': 'https://genius.com/Game-of-thrones-the-ghost-of-harrenhal-annotated'},\n",
       " {'Description': 'The Old Gods and the New',\n",
       "  'url': 'https://genius.com/Game-of-thrones-the-old-gods-and-the-new-annotated'},\n",
       " {'Description': 'A Man Without Honor',\n",
       "  'url': 'https://genius.com/Game-of-thrones-a-man-without-honor-annotated'},\n",
       " {'Description': 'The Prince of Winterfell',\n",
       "  'url': 'https://genius.com/Game-of-thrones-the-prince-of-winterfell-annotated'},\n",
       " {'Description': 'Blackwater',\n",
       "  'url': 'https://genius.com/Game-of-thrones-blackwater-annotated'},\n",
       " {'Description': 'Valar Morghulis',\n",
       "  'url': 'https://genius.com/Game-of-thrones-valar-morghulis-annotated'}]"
      ]
     },
     "execution_count": 6,
     "metadata": {},
     "output_type": "execute_result"
    }
   ],
   "source": [
    "# get season 2 episodes\n",
    "driver.get(season_2['url'])\n",
    "\n",
    "episode_elements = driver.find_elements(By.CSS_SELECTOR, \"[class*='u-display_block']\")\n",
    "\n",
    "s2_episodes = []\n",
    "for ep in episode_elements:\n",
    "    if ep.get_attribute('href'):\n",
    "        url = ep.get_attribute('href')\n",
    "        desc = ep.text.replace(' Lyrics', '')\n",
    "        s2_episodes.append({'Description': desc, \"url\": url})\n",
    "\n",
    "# Check s2 episodes\n",
    "s2_episodes"
   ]
  },
  {
   "cell_type": "code",
   "execution_count": 7,
   "metadata": {},
   "outputs": [
    {
     "data": {
      "text/plain": [
       "[{'Description': 'Valar Dohaeris',\n",
       "  'url': 'https://genius.com/Game-of-thrones-valar-dohaeris-annotated'},\n",
       " {'Description': 'Dark Wings, Dark Words',\n",
       "  'url': 'https://genius.com/Game-of-thrones-dark-wings-dark-words-annotated'},\n",
       " {'Description': 'Walk of Punishment',\n",
       "  'url': 'https://genius.com/Game-of-thrones-walk-of-punishment-annotated'},\n",
       " {'Description': 'And Now His Watch Is Ended',\n",
       "  'url': 'https://genius.com/Game-of-thrones-and-now-his-watch-is-ended-annotated'},\n",
       " {'Description': 'Kissed by Fire',\n",
       "  'url': 'https://genius.com/Game-of-thrones-kissed-by-fire-annotated'},\n",
       " {'Description': 'The Climb',\n",
       "  'url': 'https://genius.com/Game-of-thrones-the-climb-annotated'},\n",
       " {'Description': 'The Bear and the Maiden Fair',\n",
       "  'url': 'https://genius.com/Game-of-thrones-the-bear-and-the-maiden-fair-annotated'},\n",
       " {'Description': 'Second Sons',\n",
       "  'url': 'https://genius.com/Game-of-thrones-second-sons-annotated'},\n",
       " {'Description': 'The Rains of Castamere',\n",
       "  'url': 'https://genius.com/Game-of-thrones-the-rains-of-castamere-annotated'},\n",
       " {'Description': 'Mhysa',\n",
       "  'url': 'https://genius.com/Game-of-thrones-mhysa-annotated'}]"
      ]
     },
     "execution_count": 7,
     "metadata": {},
     "output_type": "execute_result"
    }
   ],
   "source": [
    "# get season 3 episodes\n",
    "driver.get(season_3['url'])\n",
    "\n",
    "episode_elements = driver.find_elements(By.CSS_SELECTOR, \"[class*='u-display_block']\")\n",
    "\n",
    "s3_episodes = []\n",
    "for ep in episode_elements:\n",
    "    if ep.get_attribute('href'):\n",
    "        url = ep.get_attribute('href')\n",
    "        desc = ep.text.replace(' Lyrics', '')\n",
    "        s3_episodes.append({'Description': desc, \"url\": url})\n",
    "\n",
    "# Check s3 episodes\n",
    "s3_episodes"
   ]
  },
  {
   "cell_type": "code",
   "execution_count": 8,
   "metadata": {},
   "outputs": [
    {
     "data": {
      "text/plain": [
       "[{'Description': 'Two Swords',\n",
       "  'url': 'https://genius.com/Game-of-thrones-two-swords-annotated'},\n",
       " {'Description': 'The Lion and the Rose',\n",
       "  'url': 'https://genius.com/Game-of-thrones-the-lion-and-the-rose-annotated'},\n",
       " {'Description': 'Breaker of Chains',\n",
       "  'url': 'https://genius.com/Game-of-thrones-breaker-of-chains-annotated'},\n",
       " {'Description': 'Oathkeeper',\n",
       "  'url': 'https://genius.com/Game-of-thrones-oathkeeper-annotated'},\n",
       " {'Description': 'First of His Name',\n",
       "  'url': 'https://genius.com/Game-of-thrones-first-of-his-name-annotated'},\n",
       " {'Description': 'The Laws of Gods and Men',\n",
       "  'url': 'https://genius.com/Game-of-thrones-the-laws-of-gods-and-men-annotated'},\n",
       " {'Description': 'Mockingbird',\n",
       "  'url': 'https://genius.com/Game-of-thrones-mockingbird-annotated'},\n",
       " {'Description': 'The Mountain and the Viper',\n",
       "  'url': 'https://genius.com/Game-of-thrones-the-mountain-and-the-viper-annotated'},\n",
       " {'Description': 'The Watchers on the Wall',\n",
       "  'url': 'https://genius.com/Game-of-thrones-the-watchers-on-the-wall-annotated'},\n",
       " {'Description': 'The Children',\n",
       "  'url': 'https://genius.com/Game-of-thrones-the-children-annotated'},\n",
       " {'Description': 'Season 4 Preview',\n",
       "  'url': 'https://genius.com/Game-of-thrones-season-4-preview-annotated'}]"
      ]
     },
     "execution_count": 8,
     "metadata": {},
     "output_type": "execute_result"
    }
   ],
   "source": [
    "# get season 4 episodes\n",
    "driver.get(season_4['url'])\n",
    "\n",
    "episode_elements = driver.find_elements(By.CSS_SELECTOR, \"[class*='u-display_block']\")\n",
    "\n",
    "s4_episodes = []\n",
    "for ep in episode_elements:\n",
    "    if ep.get_attribute('href'):\n",
    "        url = ep.get_attribute('href')\n",
    "        desc = ep.text.replace(' Lyrics', '')\n",
    "        s4_episodes.append({'Description': desc, \"url\": url})\n",
    "\n",
    "# Check s4 episodes\n",
    "s4_episodes"
   ]
  },
  {
   "cell_type": "code",
   "execution_count": 9,
   "metadata": {},
   "outputs": [
    {
     "data": {
      "text/plain": [
       "[{'Description': 'The Wars to Come',\n",
       "  'url': 'https://genius.com/Game-of-thrones-the-wars-to-come-annotated'},\n",
       " {'Description': 'The House of Black and White',\n",
       "  'url': 'https://genius.com/Game-of-thrones-the-house-of-black-and-white-annotated'},\n",
       " {'Description': 'High Sparrow',\n",
       "  'url': 'https://genius.com/Game-of-thrones-high-sparrow-annotated'},\n",
       " {'Description': 'Sons of the Harpy',\n",
       "  'url': 'https://genius.com/Game-of-thrones-sons-of-the-harpy-annotated'},\n",
       " {'Description': 'Kill the Boy',\n",
       "  'url': 'https://genius.com/Game-of-thrones-kill-the-boy-annotated'},\n",
       " {'Description': 'Unbowed, Unbent, Unbroken',\n",
       "  'url': 'https://genius.com/Game-of-thrones-unbowed-unbent-unbroken-annotated'},\n",
       " {'Description': 'The Gift',\n",
       "  'url': 'https://genius.com/Game-of-thrones-the-gift-annotated'},\n",
       " {'Description': 'Hardhome',\n",
       "  'url': 'https://genius.com/Game-of-thrones-hardhome-annotated'},\n",
       " {'Description': 'The Dance of Dragons',\n",
       "  'url': 'https://genius.com/Game-of-thrones-the-dance-of-dragons-annotated'},\n",
       " {'Description': \"Mother's Mercy\",\n",
       "  'url': 'https://genius.com/Game-of-thrones-mothers-mercy-annotated'},\n",
       " {'Description': 'Season 5 Trailer Breakdown',\n",
       "  'url': 'https://genius.com/Game-of-thrones-season-5-trailer-breakdown-annotated'}]"
      ]
     },
     "execution_count": 9,
     "metadata": {},
     "output_type": "execute_result"
    }
   ],
   "source": [
    "# get season 5 episodes\n",
    "driver.get(season_5['url'])\n",
    "\n",
    "episode_elements = driver.find_elements(By.CSS_SELECTOR, \"[class*='u-display_block']\")\n",
    "\n",
    "s5_episodes = []\n",
    "for ep in episode_elements:\n",
    "    if ep.get_attribute('href'):\n",
    "        url = ep.get_attribute('href')\n",
    "        desc = ep.text.replace(' Lyrics', '')\n",
    "        s5_episodes.append({'Description': desc, \"url\": url})\n",
    "\n",
    "# Check s5 episodes\n",
    "s5_episodes"
   ]
  },
  {
   "cell_type": "code",
   "execution_count": 10,
   "metadata": {},
   "outputs": [
    {
     "data": {
      "text/plain": [
       "[{'Description': 'The Red Woman',\n",
       "  'url': 'https://genius.com/Game-of-thrones-the-red-woman-annotated'},\n",
       " {'Description': 'Home',\n",
       "  'url': 'https://genius.com/Game-of-thrones-home-annotated'},\n",
       " {'Description': 'Oathbreaker',\n",
       "  'url': 'https://genius.com/Game-of-thrones-oathbreaker-annotated'},\n",
       " {'Description': 'Book of the Stranger',\n",
       "  'url': 'https://genius.com/Game-of-thrones-book-of-the-stranger-annotated'},\n",
       " {'Description': 'The Door',\n",
       "  'url': 'https://genius.com/Game-of-thrones-the-door-annotated'},\n",
       " {'Description': 'Blood of My Blood',\n",
       "  'url': 'https://genius.com/Game-of-thrones-blood-of-my-blood-annotated'},\n",
       " {'Description': 'The Broken Man',\n",
       "  'url': 'https://genius.com/Game-of-thrones-the-broken-man-annotated'},\n",
       " {'Description': 'No One',\n",
       "  'url': 'https://genius.com/Game-of-thrones-no-one-annotated'},\n",
       " {'Description': 'Battle of the Bastards',\n",
       "  'url': 'https://genius.com/Game-of-thrones-battle-of-the-bastards-annotated'},\n",
       " {'Description': 'The Winds of Winter',\n",
       "  'url': 'https://genius.com/Game-of-thrones-the-winds-of-winter-annotated'}]"
      ]
     },
     "execution_count": 10,
     "metadata": {},
     "output_type": "execute_result"
    }
   ],
   "source": [
    "# get season 6 episodes\n",
    "driver.get(season_6['url'])\n",
    "\n",
    "episode_elements = driver.find_elements(By.CSS_SELECTOR, \"[class*='u-display_block']\")\n",
    "\n",
    "s6_episodes = []\n",
    "for ep in episode_elements:\n",
    "    if ep.get_attribute('href'):\n",
    "        url = ep.get_attribute('href')\n",
    "        desc = ep.text.replace(' Lyrics', '')\n",
    "        s6_episodes.append({'Description': desc, \"url\": url})\n",
    "\n",
    "# Check s6 episodes\n",
    "s6_episodes"
   ]
  },
  {
   "cell_type": "code",
   "execution_count": 11,
   "metadata": {},
   "outputs": [
    {
     "data": {
      "text/plain": [
       "[{'Description': 'Dragonstone',\n",
       "  'url': 'https://genius.com/Game-of-thrones-dragonstone-annotated'},\n",
       " {'Description': 'Stormborn',\n",
       "  'url': 'https://genius.com/Game-of-thrones-stormborn-annotated'},\n",
       " {'Description': \"The Queen's Justice\",\n",
       "  'url': 'https://genius.com/Game-of-thrones-the-queens-justice-annotated'},\n",
       " {'Description': 'The Spoils Of War',\n",
       "  'url': 'https://genius.com/Game-of-thrones-the-spoils-of-war-annotated'},\n",
       " {'Description': 'Eastwatch',\n",
       "  'url': 'https://genius.com/Game-of-thrones-eastwatch-annotated'},\n",
       " {'Description': 'Beyond the Wall',\n",
       "  'url': 'https://genius.com/Game-of-thrones-beyond-the-wall-annotated'},\n",
       " {'Description': 'The Dragon and the Wolf',\n",
       "  'url': 'https://genius.com/Game-of-thrones-the-dragon-and-the-wolf-annotated'}]"
      ]
     },
     "execution_count": 11,
     "metadata": {},
     "output_type": "execute_result"
    }
   ],
   "source": [
    "# get season 7 episodes\n",
    "driver.get(season_7['url'])\n",
    "\n",
    "episode_elements = driver.find_elements(By.CSS_SELECTOR, \"[class*='u-display_block']\")\n",
    "\n",
    "s7_episodes = []\n",
    "for ep in episode_elements:\n",
    "    if ep.get_attribute('href'):\n",
    "        url = ep.get_attribute('href')\n",
    "        desc = ep.text.replace(' Lyrics', '')\n",
    "        s7_episodes.append({'Description': desc, \"url\": url})\n",
    "\n",
    "# Check s7 episodes\n",
    "s7_episodes"
   ]
  },
  {
   "cell_type": "code",
   "execution_count": 12,
   "metadata": {},
   "outputs": [
    {
     "data": {
      "text/plain": [
       "[{'Description': 'Winterfell',\n",
       "  'url': 'https://genius.com/Game-of-thrones-winterfell-annotated'},\n",
       " {'Description': 'A Knight of the Seven Kingdoms',\n",
       "  'url': 'https://genius.com/Game-of-thrones-a-knight-of-the-seven-kingdoms-annotated'},\n",
       " {'Description': 'The Long Night',\n",
       "  'url': 'https://genius.com/Game-of-thrones-the-long-night-annotated'},\n",
       " {'Description': 'The Last of the Starks',\n",
       "  'url': 'https://genius.com/Game-of-thrones-the-last-of-the-starks-annotated'},\n",
       " {'Description': 'The Bells',\n",
       "  'url': 'https://genius.com/Game-of-thrones-the-bells-annotated'},\n",
       " {'Description': 'The Iron Throne',\n",
       "  'url': 'https://genius.com/Game-of-thrones-the-iron-throne-annotated'}]"
      ]
     },
     "execution_count": 12,
     "metadata": {},
     "output_type": "execute_result"
    }
   ],
   "source": [
    "# get season 8 episodes\n",
    "driver.get(season_8['url'])\n",
    "\n",
    "episode_elements = driver.find_elements(By.CSS_SELECTOR, \"[class*='u-display_block']\")\n",
    "\n",
    "s8_episodes = []\n",
    "for ep in episode_elements:\n",
    "    if ep.get_attribute('href'):\n",
    "        url = ep.get_attribute('href')\n",
    "        desc = ep.text.replace(' Lyrics', '')\n",
    "        s8_episodes.append({'Description': desc, \"url\": url})\n",
    "\n",
    "# Check s8 episodes\n",
    "s8_episodes"
   ]
  },
  {
   "cell_type": "markdown",
   "metadata": {},
   "source": [
    "### Create episode script text files and organize them in sub-directorys by season"
   ]
  },
  {
   "cell_type": "code",
   "execution_count": 13,
   "metadata": {},
   "outputs": [],
   "source": [
    "import os\n",
    "import shutil"
   ]
  },
  {
   "cell_type": "code",
   "execution_count": 14,
   "metadata": {},
   "outputs": [],
   "source": [
    "# Function to create sub-dir, create text files and move to subdir\n",
    "def create_script(fol, season_episodes):\n",
    "    # if not exists create directory\n",
    "    if not os.path.exists(fol):\n",
    "        os.makedirs(fol)\n",
    "    # get cwd\n",
    "    cwd = os.getcwd()\n",
    "    # get fol path\n",
    "    fol_path = cwd + '/' + str(fol)\n",
    "    # get season episodes scripts\n",
    "    for episode in season_episodes:\n",
    "        # get episode script\n",
    "        driver.get(episode['url'])\n",
    "        # Wait for url to load\n",
    "        time.sleep(3)\n",
    "        # find script containers\n",
    "        scripts = driver.find_elements(By.CSS_SELECTOR, \"[class*='Lyrics__Container-sc-1ynbvzw-6 jYfhrf'\")\n",
    "        for script in scripts:\n",
    "            # get file name\n",
    "            file_name = str(episode['Description']) + '.txt'\n",
    "            # If file is composed of multiple data containers\n",
    "            fol_file_path = str(fol_path) + '/' + str(file_name)\n",
    "            # prints everytime a file is being written (on)\n",
    "            print(fol_file_path)\n",
    "            if os.path.isfile(fol_file_path):\n",
    "                with open(fol_file_path, 'a') as f:\n",
    "                    f.write('\\n')\n",
    "                    f.write(script.text)\n",
    "            else:\n",
    "                # create file\n",
    "                f = open(file_name,\"w+\")\n",
    "                # write in data\n",
    "                f.write(script.text)\n",
    "                # wait for write operation\n",
    "                time.sleep(3)\n",
    "                # get file path\n",
    "                file_path = cwd + '/' + str(file_name)\n",
    "                # move file to season directory\n",
    "                shutil.move(file_path, fol_path)\n",
    "        # wait for connection to load\n",
    "        time.sleep(3)"
   ]
  },
  {
   "cell_type": "markdown",
   "metadata": {},
   "source": [
    "#### Episodes of Season 1"
   ]
  },
  {
   "cell_type": "code",
   "execution_count": 15,
   "metadata": {},
   "outputs": [
    {
     "name": "stdout",
     "output_type": "stream",
     "text": [
      "/Users/lucaswagner/Documents/GitHub/GoT_project/Season 1/Winter is Coming.txt\n",
      "/Users/lucaswagner/Documents/GitHub/GoT_project/Season 1/The Kingsroad.txt\n",
      "/Users/lucaswagner/Documents/GitHub/GoT_project/Season 1/Lord Snow.txt\n",
      "/Users/lucaswagner/Documents/GitHub/GoT_project/Season 1/Cripples, Bastards and Broken Things.txt\n",
      "/Users/lucaswagner/Documents/GitHub/GoT_project/Season 1/The Wolf and the Lion.txt\n",
      "/Users/lucaswagner/Documents/GitHub/GoT_project/Season 1/A Golden Crown.txt\n",
      "/Users/lucaswagner/Documents/GitHub/GoT_project/Season 1/You Win or You Die.txt\n",
      "/Users/lucaswagner/Documents/GitHub/GoT_project/Season 1/The Pointy End.txt\n",
      "/Users/lucaswagner/Documents/GitHub/GoT_project/Season 1/Baelor.txt\n",
      "/Users/lucaswagner/Documents/GitHub/GoT_project/Season 1/Fire and Blood.txt\n"
     ]
    }
   ],
   "source": [
    "create_script(\"Season 1\", s1_episodes)"
   ]
  },
  {
   "cell_type": "markdown",
   "metadata": {},
   "source": [
    "#### Episodes of Season 2"
   ]
  },
  {
   "cell_type": "code",
   "execution_count": 16,
   "metadata": {},
   "outputs": [
    {
     "name": "stdout",
     "output_type": "stream",
     "text": [
      "/Users/lucaswagner/Documents/GitHub/GoT_project/Season 2/The North Remembers.txt\n",
      "/Users/lucaswagner/Documents/GitHub/GoT_project/Season 2/The Night Lands.txt\n",
      "/Users/lucaswagner/Documents/GitHub/GoT_project/Season 2/What Is Dead May Never Die.txt\n",
      "/Users/lucaswagner/Documents/GitHub/GoT_project/Season 2/Garden of Bones.txt\n",
      "/Users/lucaswagner/Documents/GitHub/GoT_project/Season 2/The Ghost of Harrenhal.txt\n",
      "/Users/lucaswagner/Documents/GitHub/GoT_project/Season 2/The Old Gods and the New.txt\n",
      "/Users/lucaswagner/Documents/GitHub/GoT_project/Season 2/A Man Without Honor.txt\n",
      "/Users/lucaswagner/Documents/GitHub/GoT_project/Season 2/The Prince of Winterfell.txt\n",
      "/Users/lucaswagner/Documents/GitHub/GoT_project/Season 2/Blackwater.txt\n",
      "/Users/lucaswagner/Documents/GitHub/GoT_project/Season 2/Valar Morghulis.txt\n"
     ]
    }
   ],
   "source": [
    "create_script(\"Season 2\", s2_episodes)"
   ]
  },
  {
   "cell_type": "markdown",
   "metadata": {},
   "source": [
    "#### Episodes of Season 3"
   ]
  },
  {
   "cell_type": "code",
   "execution_count": 17,
   "metadata": {},
   "outputs": [
    {
     "name": "stdout",
     "output_type": "stream",
     "text": [
      "/Users/lucaswagner/Documents/GitHub/GoT_project/Season 3/Valar Dohaeris.txt\n",
      "/Users/lucaswagner/Documents/GitHub/GoT_project/Season 3/Dark Wings, Dark Words.txt\n",
      "/Users/lucaswagner/Documents/GitHub/GoT_project/Season 3/Walk of Punishment.txt\n",
      "/Users/lucaswagner/Documents/GitHub/GoT_project/Season 3/Walk of Punishment.txt\n",
      "/Users/lucaswagner/Documents/GitHub/GoT_project/Season 3/Walk of Punishment.txt\n",
      "/Users/lucaswagner/Documents/GitHub/GoT_project/Season 3/And Now His Watch Is Ended.txt\n",
      "/Users/lucaswagner/Documents/GitHub/GoT_project/Season 3/Kissed by Fire.txt\n",
      "/Users/lucaswagner/Documents/GitHub/GoT_project/Season 3/The Climb.txt\n",
      "/Users/lucaswagner/Documents/GitHub/GoT_project/Season 3/The Bear and the Maiden Fair.txt\n",
      "/Users/lucaswagner/Documents/GitHub/GoT_project/Season 3/Second Sons.txt\n",
      "/Users/lucaswagner/Documents/GitHub/GoT_project/Season 3/The Rains of Castamere.txt\n",
      "/Users/lucaswagner/Documents/GitHub/GoT_project/Season 3/The Rains of Castamere.txt\n",
      "/Users/lucaswagner/Documents/GitHub/GoT_project/Season 3/The Rains of Castamere.txt\n",
      "/Users/lucaswagner/Documents/GitHub/GoT_project/Season 3/Mhysa.txt\n"
     ]
    }
   ],
   "source": [
    "create_script(\"Season 3\", s3_episodes)"
   ]
  },
  {
   "cell_type": "markdown",
   "metadata": {},
   "source": [
    "#### Episodes of Season 4"
   ]
  },
  {
   "cell_type": "code",
   "execution_count": 18,
   "metadata": {},
   "outputs": [
    {
     "name": "stdout",
     "output_type": "stream",
     "text": [
      "/Users/lucaswagner/Documents/GitHub/GoT_project/Season 4/Two Swords.txt\n",
      "/Users/lucaswagner/Documents/GitHub/GoT_project/Season 4/The Lion and the Rose.txt\n",
      "/Users/lucaswagner/Documents/GitHub/GoT_project/Season 4/Breaker of Chains.txt\n",
      "/Users/lucaswagner/Documents/GitHub/GoT_project/Season 4/Oathkeeper.txt\n",
      "/Users/lucaswagner/Documents/GitHub/GoT_project/Season 4/First of His Name.txt\n",
      "/Users/lucaswagner/Documents/GitHub/GoT_project/Season 4/The Laws of Gods and Men.txt\n",
      "/Users/lucaswagner/Documents/GitHub/GoT_project/Season 4/Mockingbird.txt\n",
      "/Users/lucaswagner/Documents/GitHub/GoT_project/Season 4/The Mountain and the Viper.txt\n",
      "/Users/lucaswagner/Documents/GitHub/GoT_project/Season 4/The Watchers on the Wall.txt\n",
      "/Users/lucaswagner/Documents/GitHub/GoT_project/Season 4/The Children.txt\n",
      "/Users/lucaswagner/Documents/GitHub/GoT_project/Season 4/Season 4 Preview.txt\n"
     ]
    }
   ],
   "source": [
    "create_script(\"Season 4\", s4_episodes)"
   ]
  },
  {
   "cell_type": "markdown",
   "metadata": {},
   "source": [
    "#### Episodes of Season 5"
   ]
  },
  {
   "cell_type": "code",
   "execution_count": 19,
   "metadata": {},
   "outputs": [
    {
     "name": "stdout",
     "output_type": "stream",
     "text": [
      "/Users/lucaswagner/Documents/GitHub/GoT_project/Season 5/The Wars to Come.txt\n",
      "/Users/lucaswagner/Documents/GitHub/GoT_project/Season 5/The House of Black and White.txt\n",
      "/Users/lucaswagner/Documents/GitHub/GoT_project/Season 5/High Sparrow.txt\n",
      "/Users/lucaswagner/Documents/GitHub/GoT_project/Season 5/Sons of the Harpy.txt\n",
      "/Users/lucaswagner/Documents/GitHub/GoT_project/Season 5/Kill the Boy.txt\n",
      "/Users/lucaswagner/Documents/GitHub/GoT_project/Season 5/Unbowed, Unbent, Unbroken.txt\n",
      "/Users/lucaswagner/Documents/GitHub/GoT_project/Season 5/The Gift.txt\n",
      "/Users/lucaswagner/Documents/GitHub/GoT_project/Season 5/Hardhome.txt\n",
      "/Users/lucaswagner/Documents/GitHub/GoT_project/Season 5/The Dance of Dragons.txt\n",
      "/Users/lucaswagner/Documents/GitHub/GoT_project/Season 5/Mother's Mercy.txt\n",
      "/Users/lucaswagner/Documents/GitHub/GoT_project/Season 5/Season 5 Trailer Breakdown.txt\n"
     ]
    }
   ],
   "source": [
    "create_script(\"Season 5\", s5_episodes)"
   ]
  },
  {
   "cell_type": "markdown",
   "metadata": {},
   "source": [
    "#### Episodes of Season 6"
   ]
  },
  {
   "cell_type": "code",
   "execution_count": 20,
   "metadata": {},
   "outputs": [
    {
     "name": "stdout",
     "output_type": "stream",
     "text": [
      "/Users/lucaswagner/Documents/GitHub/GoT_project/Season 6/The Red Woman.txt\n",
      "/Users/lucaswagner/Documents/GitHub/GoT_project/Season 6/Home.txt\n",
      "/Users/lucaswagner/Documents/GitHub/GoT_project/Season 6/Oathbreaker.txt\n",
      "/Users/lucaswagner/Documents/GitHub/GoT_project/Season 6/Book of the Stranger.txt\n",
      "/Users/lucaswagner/Documents/GitHub/GoT_project/Season 6/The Door.txt\n",
      "/Users/lucaswagner/Documents/GitHub/GoT_project/Season 6/Blood of My Blood.txt\n",
      "/Users/lucaswagner/Documents/GitHub/GoT_project/Season 6/The Broken Man.txt\n",
      "/Users/lucaswagner/Documents/GitHub/GoT_project/Season 6/No One.txt\n",
      "/Users/lucaswagner/Documents/GitHub/GoT_project/Season 6/Battle of the Bastards.txt\n",
      "/Users/lucaswagner/Documents/GitHub/GoT_project/Season 6/The Winds of Winter.txt\n"
     ]
    }
   ],
   "source": [
    "create_script(\"Season 6\", s6_episodes)"
   ]
  },
  {
   "cell_type": "markdown",
   "metadata": {},
   "source": [
    "#### Episodes of Season 7"
   ]
  },
  {
   "cell_type": "code",
   "execution_count": 21,
   "metadata": {},
   "outputs": [
    {
     "name": "stdout",
     "output_type": "stream",
     "text": [
      "/Users/lucaswagner/Documents/GitHub/GoT_project/Season 7/Dragonstone.txt\n",
      "/Users/lucaswagner/Documents/GitHub/GoT_project/Season 7/Stormborn.txt\n",
      "/Users/lucaswagner/Documents/GitHub/GoT_project/Season 7/The Queen's Justice.txt\n",
      "/Users/lucaswagner/Documents/GitHub/GoT_project/Season 7/The Spoils Of War.txt\n",
      "/Users/lucaswagner/Documents/GitHub/GoT_project/Season 7/Eastwatch.txt\n",
      "/Users/lucaswagner/Documents/GitHub/GoT_project/Season 7/Beyond the Wall.txt\n",
      "/Users/lucaswagner/Documents/GitHub/GoT_project/Season 7/Beyond the Wall.txt\n",
      "/Users/lucaswagner/Documents/GitHub/GoT_project/Season 7/Beyond the Wall.txt\n",
      "/Users/lucaswagner/Documents/GitHub/GoT_project/Season 7/The Dragon and the Wolf.txt\n"
     ]
    }
   ],
   "source": [
    "create_script(\"Season 7\", s7_episodes)"
   ]
  },
  {
   "cell_type": "markdown",
   "metadata": {},
   "source": [
    "#### Episodes of Season 8"
   ]
  },
  {
   "cell_type": "code",
   "execution_count": 22,
   "metadata": {},
   "outputs": [
    {
     "name": "stdout",
     "output_type": "stream",
     "text": [
      "/Users/lucaswagner/Documents/GitHub/GoT_project/Season 8/Winterfell.txt\n",
      "/Users/lucaswagner/Documents/GitHub/GoT_project/Season 8/A Knight of the Seven Kingdoms.txt\n",
      "/Users/lucaswagner/Documents/GitHub/GoT_project/Season 8/The Long Night.txt\n",
      "/Users/lucaswagner/Documents/GitHub/GoT_project/Season 8/The Long Night.txt\n",
      "/Users/lucaswagner/Documents/GitHub/GoT_project/Season 8/The Long Night.txt\n",
      "/Users/lucaswagner/Documents/GitHub/GoT_project/Season 8/The Last of the Starks.txt\n",
      "/Users/lucaswagner/Documents/GitHub/GoT_project/Season 8/The Last of the Starks.txt\n",
      "/Users/lucaswagner/Documents/GitHub/GoT_project/Season 8/The Last of the Starks.txt\n",
      "/Users/lucaswagner/Documents/GitHub/GoT_project/Season 8/The Bells.txt\n",
      "/Users/lucaswagner/Documents/GitHub/GoT_project/Season 8/The Bells.txt\n",
      "/Users/lucaswagner/Documents/GitHub/GoT_project/Season 8/The Bells.txt\n",
      "/Users/lucaswagner/Documents/GitHub/GoT_project/Season 8/The Iron Throne.txt\n",
      "/Users/lucaswagner/Documents/GitHub/GoT_project/Season 8/The Iron Throne.txt\n",
      "/Users/lucaswagner/Documents/GitHub/GoT_project/Season 8/The Iron Throne.txt\n"
     ]
    }
   ],
   "source": [
    "create_script(\"Season 8\", s8_episodes)"
   ]
  }
 ],
 "metadata": {
  "kernelspec": {
   "display_name": "Python 3.10.2 64-bit",
   "language": "python",
   "name": "python3"
  },
  "language_info": {
   "codemirror_mode": {
    "name": "ipython",
    "version": 3
   },
   "file_extension": ".py",
   "mimetype": "text/x-python",
   "name": "python",
   "nbconvert_exporter": "python",
   "pygments_lexer": "ipython3",
   "version": "3.10.2"
  },
  "orig_nbformat": 4,
  "vscode": {
   "interpreter": {
    "hash": "aee8b7b246df8f9039afb4144a1f6fd8d2ca17a180786b69acc140d282b71a49"
   }
  }
 },
 "nbformat": 4,
 "nbformat_minor": 2
}
